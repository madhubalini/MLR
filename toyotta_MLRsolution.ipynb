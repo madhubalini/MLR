{
 "cells": [
  {
   "cell_type": "code",
   "execution_count": 1,
   "metadata": {
    "ExecuteTime": {
     "end_time": "2021-02-07T09:34:13.427872Z",
     "start_time": "2021-02-07T09:34:10.036573Z"
    }
   },
   "outputs": [],
   "source": [
    "import pandas as pd\n",
    "import matplotlib.pyplot as plt\n",
    "import seaborn as sns\n",
    "from statsmodels.graphics.regressionplots import influence_plot\n",
    "import statsmodels.formula.api as smf\n",
    "import numpy as np"
   ]
  },
  {
   "cell_type": "code",
   "execution_count": 5,
   "metadata": {
    "ExecuteTime": {
     "end_time": "2021-02-07T09:39:47.839230Z",
     "start_time": "2021-02-07T09:39:47.802227Z"
    }
   },
   "outputs": [
    {
     "data": {
      "text/html": [
       "<div>\n",
       "<style scoped>\n",
       "    .dataframe tbody tr th:only-of-type {\n",
       "        vertical-align: middle;\n",
       "    }\n",
       "\n",
       "    .dataframe tbody tr th {\n",
       "        vertical-align: top;\n",
       "    }\n",
       "\n",
       "    .dataframe thead th {\n",
       "        text-align: right;\n",
       "    }\n",
       "</style>\n",
       "<table border=\"1\" class=\"dataframe\">\n",
       "  <thead>\n",
       "    <tr style=\"text-align: right;\">\n",
       "      <th></th>\n",
       "      <th>Id</th>\n",
       "      <th>Model</th>\n",
       "      <th>Price</th>\n",
       "      <th>Age_08_04</th>\n",
       "      <th>Mfg_Month</th>\n",
       "      <th>Mfg_Year</th>\n",
       "      <th>KM</th>\n",
       "      <th>Fuel_Type</th>\n",
       "      <th>HP</th>\n",
       "      <th>Met_Color</th>\n",
       "      <th>...</th>\n",
       "      <th>Central_Lock</th>\n",
       "      <th>Powered_Windows</th>\n",
       "      <th>Power_Steering</th>\n",
       "      <th>Radio</th>\n",
       "      <th>Mistlamps</th>\n",
       "      <th>Sport_Model</th>\n",
       "      <th>Backseat_Divider</th>\n",
       "      <th>Metallic_Rim</th>\n",
       "      <th>Radio_cassette</th>\n",
       "      <th>Tow_Bar</th>\n",
       "    </tr>\n",
       "  </thead>\n",
       "  <tbody>\n",
       "    <tr>\n",
       "      <th>0</th>\n",
       "      <td>1</td>\n",
       "      <td>TOYOTA Corolla 2.0 D4D HATCHB TERRA 2/3-Doors</td>\n",
       "      <td>13500</td>\n",
       "      <td>23</td>\n",
       "      <td>10</td>\n",
       "      <td>2002</td>\n",
       "      <td>46986</td>\n",
       "      <td>Diesel</td>\n",
       "      <td>90</td>\n",
       "      <td>1</td>\n",
       "      <td>...</td>\n",
       "      <td>1</td>\n",
       "      <td>1</td>\n",
       "      <td>1</td>\n",
       "      <td>0</td>\n",
       "      <td>0</td>\n",
       "      <td>0</td>\n",
       "      <td>1</td>\n",
       "      <td>0</td>\n",
       "      <td>0</td>\n",
       "      <td>0</td>\n",
       "    </tr>\n",
       "    <tr>\n",
       "      <th>1</th>\n",
       "      <td>2</td>\n",
       "      <td>TOYOTA Corolla 2.0 D4D HATCHB TERRA 2/3-Doors</td>\n",
       "      <td>13750</td>\n",
       "      <td>23</td>\n",
       "      <td>10</td>\n",
       "      <td>2002</td>\n",
       "      <td>72937</td>\n",
       "      <td>Diesel</td>\n",
       "      <td>90</td>\n",
       "      <td>1</td>\n",
       "      <td>...</td>\n",
       "      <td>1</td>\n",
       "      <td>0</td>\n",
       "      <td>1</td>\n",
       "      <td>0</td>\n",
       "      <td>0</td>\n",
       "      <td>0</td>\n",
       "      <td>1</td>\n",
       "      <td>0</td>\n",
       "      <td>0</td>\n",
       "      <td>0</td>\n",
       "    </tr>\n",
       "    <tr>\n",
       "      <th>2</th>\n",
       "      <td>3</td>\n",
       "      <td>TOYOTA Corolla 2.0 D4D HATCHB TERRA 2/3-Doors</td>\n",
       "      <td>13950</td>\n",
       "      <td>24</td>\n",
       "      <td>9</td>\n",
       "      <td>2002</td>\n",
       "      <td>41711</td>\n",
       "      <td>Diesel</td>\n",
       "      <td>90</td>\n",
       "      <td>1</td>\n",
       "      <td>...</td>\n",
       "      <td>0</td>\n",
       "      <td>0</td>\n",
       "      <td>1</td>\n",
       "      <td>0</td>\n",
       "      <td>0</td>\n",
       "      <td>0</td>\n",
       "      <td>1</td>\n",
       "      <td>0</td>\n",
       "      <td>0</td>\n",
       "      <td>0</td>\n",
       "    </tr>\n",
       "    <tr>\n",
       "      <th>3</th>\n",
       "      <td>4</td>\n",
       "      <td>TOYOTA Corolla 2.0 D4D HATCHB TERRA 2/3-Doors</td>\n",
       "      <td>14950</td>\n",
       "      <td>26</td>\n",
       "      <td>7</td>\n",
       "      <td>2002</td>\n",
       "      <td>48000</td>\n",
       "      <td>Diesel</td>\n",
       "      <td>90</td>\n",
       "      <td>0</td>\n",
       "      <td>...</td>\n",
       "      <td>0</td>\n",
       "      <td>0</td>\n",
       "      <td>1</td>\n",
       "      <td>0</td>\n",
       "      <td>0</td>\n",
       "      <td>0</td>\n",
       "      <td>1</td>\n",
       "      <td>0</td>\n",
       "      <td>0</td>\n",
       "      <td>0</td>\n",
       "    </tr>\n",
       "    <tr>\n",
       "      <th>4</th>\n",
       "      <td>5</td>\n",
       "      <td>TOYOTA Corolla 2.0 D4D HATCHB SOL 2/3-Doors</td>\n",
       "      <td>13750</td>\n",
       "      <td>30</td>\n",
       "      <td>3</td>\n",
       "      <td>2002</td>\n",
       "      <td>38500</td>\n",
       "      <td>Diesel</td>\n",
       "      <td>90</td>\n",
       "      <td>0</td>\n",
       "      <td>...</td>\n",
       "      <td>1</td>\n",
       "      <td>1</td>\n",
       "      <td>1</td>\n",
       "      <td>0</td>\n",
       "      <td>1</td>\n",
       "      <td>0</td>\n",
       "      <td>1</td>\n",
       "      <td>0</td>\n",
       "      <td>0</td>\n",
       "      <td>0</td>\n",
       "    </tr>\n",
       "  </tbody>\n",
       "</table>\n",
       "<p>5 rows × 38 columns</p>\n",
       "</div>"
      ],
      "text/plain": [
       "   Id                                           Model  Price  Age_08_04  \\\n",
       "0   1   TOYOTA Corolla 2.0 D4D HATCHB TERRA 2/3-Doors  13500         23   \n",
       "1   2   TOYOTA Corolla 2.0 D4D HATCHB TERRA 2/3-Doors  13750         23   \n",
       "2   3   TOYOTA Corolla 2.0 D4D HATCHB TERRA 2/3-Doors  13950         24   \n",
       "3   4   TOYOTA Corolla 2.0 D4D HATCHB TERRA 2/3-Doors  14950         26   \n",
       "4   5     TOYOTA Corolla 2.0 D4D HATCHB SOL 2/3-Doors  13750         30   \n",
       "\n",
       "   Mfg_Month  Mfg_Year     KM Fuel_Type  HP  Met_Color  ... Central_Lock  \\\n",
       "0         10      2002  46986    Diesel  90          1  ...            1   \n",
       "1         10      2002  72937    Diesel  90          1  ...            1   \n",
       "2          9      2002  41711    Diesel  90          1  ...            0   \n",
       "3          7      2002  48000    Diesel  90          0  ...            0   \n",
       "4          3      2002  38500    Diesel  90          0  ...            1   \n",
       "\n",
       "   Powered_Windows  Power_Steering  Radio  Mistlamps  Sport_Model  \\\n",
       "0                1               1      0          0            0   \n",
       "1                0               1      0          0            0   \n",
       "2                0               1      0          0            0   \n",
       "3                0               1      0          0            0   \n",
       "4                1               1      0          1            0   \n",
       "\n",
       "   Backseat_Divider  Metallic_Rim  Radio_cassette  Tow_Bar  \n",
       "0                 1             0               0        0  \n",
       "1                 1             0               0        0  \n",
       "2                 1             0               0        0  \n",
       "3                 1             0               0        0  \n",
       "4                 1             0               0        0  \n",
       "\n",
       "[5 rows x 38 columns]"
      ]
     },
     "execution_count": 5,
     "metadata": {},
     "output_type": "execute_result"
    }
   ],
   "source": [
    "#Read the data\n",
    "car = pd.read_csv(\"ToyotaCorolla.csv\",encoding = 'unicode_escape')\n",
    "car.head(5)"
   ]
  },
  {
   "cell_type": "code",
   "execution_count": 6,
   "metadata": {
    "ExecuteTime": {
     "end_time": "2021-02-07T09:42:57.481275Z",
     "start_time": "2021-02-07T09:42:57.465271Z"
    }
   },
   "outputs": [
    {
     "data": {
      "text/html": [
       "<div>\n",
       "<style scoped>\n",
       "    .dataframe tbody tr th:only-of-type {\n",
       "        vertical-align: middle;\n",
       "    }\n",
       "\n",
       "    .dataframe tbody tr th {\n",
       "        vertical-align: top;\n",
       "    }\n",
       "\n",
       "    .dataframe thead th {\n",
       "        text-align: right;\n",
       "    }\n",
       "</style>\n",
       "<table border=\"1\" class=\"dataframe\">\n",
       "  <thead>\n",
       "    <tr style=\"text-align: right;\">\n",
       "      <th></th>\n",
       "      <th>Price</th>\n",
       "      <th>Age_08_04</th>\n",
       "      <th>KM</th>\n",
       "      <th>HP</th>\n",
       "      <th>cc</th>\n",
       "      <th>Doors</th>\n",
       "      <th>Gears</th>\n",
       "      <th>Quarterly_Tax</th>\n",
       "      <th>Weight</th>\n",
       "    </tr>\n",
       "  </thead>\n",
       "  <tbody>\n",
       "    <tr>\n",
       "      <th>0</th>\n",
       "      <td>13500</td>\n",
       "      <td>23</td>\n",
       "      <td>46986</td>\n",
       "      <td>90</td>\n",
       "      <td>2000</td>\n",
       "      <td>3</td>\n",
       "      <td>5</td>\n",
       "      <td>210</td>\n",
       "      <td>1165</td>\n",
       "    </tr>\n",
       "    <tr>\n",
       "      <th>1</th>\n",
       "      <td>13750</td>\n",
       "      <td>23</td>\n",
       "      <td>72937</td>\n",
       "      <td>90</td>\n",
       "      <td>2000</td>\n",
       "      <td>3</td>\n",
       "      <td>5</td>\n",
       "      <td>210</td>\n",
       "      <td>1165</td>\n",
       "    </tr>\n",
       "    <tr>\n",
       "      <th>2</th>\n",
       "      <td>13950</td>\n",
       "      <td>24</td>\n",
       "      <td>41711</td>\n",
       "      <td>90</td>\n",
       "      <td>2000</td>\n",
       "      <td>3</td>\n",
       "      <td>5</td>\n",
       "      <td>210</td>\n",
       "      <td>1165</td>\n",
       "    </tr>\n",
       "    <tr>\n",
       "      <th>3</th>\n",
       "      <td>14950</td>\n",
       "      <td>26</td>\n",
       "      <td>48000</td>\n",
       "      <td>90</td>\n",
       "      <td>2000</td>\n",
       "      <td>3</td>\n",
       "      <td>5</td>\n",
       "      <td>210</td>\n",
       "      <td>1165</td>\n",
       "    </tr>\n",
       "    <tr>\n",
       "      <th>4</th>\n",
       "      <td>13750</td>\n",
       "      <td>30</td>\n",
       "      <td>38500</td>\n",
       "      <td>90</td>\n",
       "      <td>2000</td>\n",
       "      <td>3</td>\n",
       "      <td>5</td>\n",
       "      <td>210</td>\n",
       "      <td>1170</td>\n",
       "    </tr>\n",
       "    <tr>\n",
       "      <th>...</th>\n",
       "      <td>...</td>\n",
       "      <td>...</td>\n",
       "      <td>...</td>\n",
       "      <td>...</td>\n",
       "      <td>...</td>\n",
       "      <td>...</td>\n",
       "      <td>...</td>\n",
       "      <td>...</td>\n",
       "      <td>...</td>\n",
       "    </tr>\n",
       "    <tr>\n",
       "      <th>1431</th>\n",
       "      <td>7500</td>\n",
       "      <td>69</td>\n",
       "      <td>20544</td>\n",
       "      <td>86</td>\n",
       "      <td>1300</td>\n",
       "      <td>3</td>\n",
       "      <td>5</td>\n",
       "      <td>69</td>\n",
       "      <td>1025</td>\n",
       "    </tr>\n",
       "    <tr>\n",
       "      <th>1432</th>\n",
       "      <td>10845</td>\n",
       "      <td>72</td>\n",
       "      <td>19000</td>\n",
       "      <td>86</td>\n",
       "      <td>1300</td>\n",
       "      <td>3</td>\n",
       "      <td>5</td>\n",
       "      <td>69</td>\n",
       "      <td>1015</td>\n",
       "    </tr>\n",
       "    <tr>\n",
       "      <th>1433</th>\n",
       "      <td>8500</td>\n",
       "      <td>71</td>\n",
       "      <td>17016</td>\n",
       "      <td>86</td>\n",
       "      <td>1300</td>\n",
       "      <td>3</td>\n",
       "      <td>5</td>\n",
       "      <td>69</td>\n",
       "      <td>1015</td>\n",
       "    </tr>\n",
       "    <tr>\n",
       "      <th>1434</th>\n",
       "      <td>7250</td>\n",
       "      <td>70</td>\n",
       "      <td>16916</td>\n",
       "      <td>86</td>\n",
       "      <td>1300</td>\n",
       "      <td>3</td>\n",
       "      <td>5</td>\n",
       "      <td>69</td>\n",
       "      <td>1015</td>\n",
       "    </tr>\n",
       "    <tr>\n",
       "      <th>1435</th>\n",
       "      <td>6950</td>\n",
       "      <td>76</td>\n",
       "      <td>1</td>\n",
       "      <td>110</td>\n",
       "      <td>1600</td>\n",
       "      <td>5</td>\n",
       "      <td>5</td>\n",
       "      <td>19</td>\n",
       "      <td>1114</td>\n",
       "    </tr>\n",
       "  </tbody>\n",
       "</table>\n",
       "<p>1436 rows × 9 columns</p>\n",
       "</div>"
      ],
      "text/plain": [
       "      Price  Age_08_04     KM   HP    cc  Doors  Gears  Quarterly_Tax  Weight\n",
       "0     13500         23  46986   90  2000      3      5            210    1165\n",
       "1     13750         23  72937   90  2000      3      5            210    1165\n",
       "2     13950         24  41711   90  2000      3      5            210    1165\n",
       "3     14950         26  48000   90  2000      3      5            210    1165\n",
       "4     13750         30  38500   90  2000      3      5            210    1170\n",
       "...     ...        ...    ...  ...   ...    ...    ...            ...     ...\n",
       "1431   7500         69  20544   86  1300      3      5             69    1025\n",
       "1432  10845         72  19000   86  1300      3      5             69    1015\n",
       "1433   8500         71  17016   86  1300      3      5             69    1015\n",
       "1434   7250         70  16916   86  1300      3      5             69    1015\n",
       "1435   6950         76      1  110  1600      5      5             19    1114\n",
       "\n",
       "[1436 rows x 9 columns]"
      ]
     },
     "execution_count": 6,
     "metadata": {},
     "output_type": "execute_result"
    }
   ],
   "source": [
    "data = car[[\"Price\",\"Age_08_04\",\"KM\",\"HP\",\"cc\",\"Doors\",\"Gears\",\"Quarterly_Tax\",\"Weight\"]]\n",
    "data"
   ]
  },
  {
   "cell_type": "code",
   "execution_count": 7,
   "metadata": {
    "ExecuteTime": {
     "end_time": "2021-02-07T09:43:28.267321Z",
     "start_time": "2021-02-07T09:43:28.256318Z"
    }
   },
   "outputs": [
    {
     "name": "stdout",
     "output_type": "stream",
     "text": [
      "<class 'pandas.core.frame.DataFrame'>\n",
      "RangeIndex: 1436 entries, 0 to 1435\n",
      "Data columns (total 9 columns):\n",
      " #   Column         Non-Null Count  Dtype\n",
      "---  ------         --------------  -----\n",
      " 0   Price          1436 non-null   int64\n",
      " 1   Age_08_04      1436 non-null   int64\n",
      " 2   KM             1436 non-null   int64\n",
      " 3   HP             1436 non-null   int64\n",
      " 4   cc             1436 non-null   int64\n",
      " 5   Doors          1436 non-null   int64\n",
      " 6   Gears          1436 non-null   int64\n",
      " 7   Quarterly_Tax  1436 non-null   int64\n",
      " 8   Weight         1436 non-null   int64\n",
      "dtypes: int64(9)\n",
      "memory usage: 101.1 KB\n"
     ]
    }
   ],
   "source": [
    "data.info()"
   ]
  },
  {
   "cell_type": "code",
   "execution_count": 9,
   "metadata": {
    "ExecuteTime": {
     "end_time": "2021-02-07T09:43:53.289016Z",
     "start_time": "2021-02-07T09:43:53.281015Z"
    }
   },
   "outputs": [
    {
     "data": {
      "text/plain": [
       "Price            0\n",
       "Age_08_04        0\n",
       "KM               0\n",
       "HP               0\n",
       "cc               0\n",
       "Doors            0\n",
       "Gears            0\n",
       "Quarterly_Tax    0\n",
       "Weight           0\n",
       "dtype: int64"
      ]
     },
     "execution_count": 9,
     "metadata": {},
     "output_type": "execute_result"
    }
   ],
   "source": [
    "data.isnull().sum()\n",
    "#nonull"
   ]
  },
  {
   "cell_type": "code",
   "execution_count": 10,
   "metadata": {
    "ExecuteTime": {
     "end_time": "2021-02-07T09:44:07.857737Z",
     "start_time": "2021-02-07T09:44:07.838756Z"
    }
   },
   "outputs": [
    {
     "data": {
      "text/html": [
       "<div>\n",
       "<style scoped>\n",
       "    .dataframe tbody tr th:only-of-type {\n",
       "        vertical-align: middle;\n",
       "    }\n",
       "\n",
       "    .dataframe tbody tr th {\n",
       "        vertical-align: top;\n",
       "    }\n",
       "\n",
       "    .dataframe thead th {\n",
       "        text-align: right;\n",
       "    }\n",
       "</style>\n",
       "<table border=\"1\" class=\"dataframe\">\n",
       "  <thead>\n",
       "    <tr style=\"text-align: right;\">\n",
       "      <th></th>\n",
       "      <th>Price</th>\n",
       "      <th>Age_08_04</th>\n",
       "      <th>KM</th>\n",
       "      <th>HP</th>\n",
       "      <th>cc</th>\n",
       "      <th>Doors</th>\n",
       "      <th>Gears</th>\n",
       "      <th>Quarterly_Tax</th>\n",
       "      <th>Weight</th>\n",
       "    </tr>\n",
       "  </thead>\n",
       "  <tbody>\n",
       "    <tr>\n",
       "      <th>Price</th>\n",
       "      <td>1.000000</td>\n",
       "      <td>-0.876590</td>\n",
       "      <td>-0.569960</td>\n",
       "      <td>0.314990</td>\n",
       "      <td>0.126389</td>\n",
       "      <td>0.185326</td>\n",
       "      <td>0.063104</td>\n",
       "      <td>0.219197</td>\n",
       "      <td>0.581198</td>\n",
       "    </tr>\n",
       "    <tr>\n",
       "      <th>Age_08_04</th>\n",
       "      <td>-0.876590</td>\n",
       "      <td>1.000000</td>\n",
       "      <td>0.505672</td>\n",
       "      <td>-0.156622</td>\n",
       "      <td>-0.098084</td>\n",
       "      <td>-0.148359</td>\n",
       "      <td>-0.005364</td>\n",
       "      <td>-0.198431</td>\n",
       "      <td>-0.470253</td>\n",
       "    </tr>\n",
       "    <tr>\n",
       "      <th>KM</th>\n",
       "      <td>-0.569960</td>\n",
       "      <td>0.505672</td>\n",
       "      <td>1.000000</td>\n",
       "      <td>-0.333538</td>\n",
       "      <td>0.102683</td>\n",
       "      <td>-0.036197</td>\n",
       "      <td>0.015023</td>\n",
       "      <td>0.278165</td>\n",
       "      <td>-0.028598</td>\n",
       "    </tr>\n",
       "    <tr>\n",
       "      <th>HP</th>\n",
       "      <td>0.314990</td>\n",
       "      <td>-0.156622</td>\n",
       "      <td>-0.333538</td>\n",
       "      <td>1.000000</td>\n",
       "      <td>0.035856</td>\n",
       "      <td>0.092424</td>\n",
       "      <td>0.209477</td>\n",
       "      <td>-0.298432</td>\n",
       "      <td>0.089614</td>\n",
       "    </tr>\n",
       "    <tr>\n",
       "      <th>cc</th>\n",
       "      <td>0.126389</td>\n",
       "      <td>-0.098084</td>\n",
       "      <td>0.102683</td>\n",
       "      <td>0.035856</td>\n",
       "      <td>1.000000</td>\n",
       "      <td>0.079903</td>\n",
       "      <td>0.014629</td>\n",
       "      <td>0.306996</td>\n",
       "      <td>0.335637</td>\n",
       "    </tr>\n",
       "    <tr>\n",
       "      <th>Doors</th>\n",
       "      <td>0.185326</td>\n",
       "      <td>-0.148359</td>\n",
       "      <td>-0.036197</td>\n",
       "      <td>0.092424</td>\n",
       "      <td>0.079903</td>\n",
       "      <td>1.000000</td>\n",
       "      <td>-0.160141</td>\n",
       "      <td>0.109363</td>\n",
       "      <td>0.302618</td>\n",
       "    </tr>\n",
       "    <tr>\n",
       "      <th>Gears</th>\n",
       "      <td>0.063104</td>\n",
       "      <td>-0.005364</td>\n",
       "      <td>0.015023</td>\n",
       "      <td>0.209477</td>\n",
       "      <td>0.014629</td>\n",
       "      <td>-0.160141</td>\n",
       "      <td>1.000000</td>\n",
       "      <td>-0.005452</td>\n",
       "      <td>0.020613</td>\n",
       "    </tr>\n",
       "    <tr>\n",
       "      <th>Quarterly_Tax</th>\n",
       "      <td>0.219197</td>\n",
       "      <td>-0.198431</td>\n",
       "      <td>0.278165</td>\n",
       "      <td>-0.298432</td>\n",
       "      <td>0.306996</td>\n",
       "      <td>0.109363</td>\n",
       "      <td>-0.005452</td>\n",
       "      <td>1.000000</td>\n",
       "      <td>0.626134</td>\n",
       "    </tr>\n",
       "    <tr>\n",
       "      <th>Weight</th>\n",
       "      <td>0.581198</td>\n",
       "      <td>-0.470253</td>\n",
       "      <td>-0.028598</td>\n",
       "      <td>0.089614</td>\n",
       "      <td>0.335637</td>\n",
       "      <td>0.302618</td>\n",
       "      <td>0.020613</td>\n",
       "      <td>0.626134</td>\n",
       "      <td>1.000000</td>\n",
       "    </tr>\n",
       "  </tbody>\n",
       "</table>\n",
       "</div>"
      ],
      "text/plain": [
       "                  Price  Age_08_04        KM        HP        cc     Doors  \\\n",
       "Price          1.000000  -0.876590 -0.569960  0.314990  0.126389  0.185326   \n",
       "Age_08_04     -0.876590   1.000000  0.505672 -0.156622 -0.098084 -0.148359   \n",
       "KM            -0.569960   0.505672  1.000000 -0.333538  0.102683 -0.036197   \n",
       "HP             0.314990  -0.156622 -0.333538  1.000000  0.035856  0.092424   \n",
       "cc             0.126389  -0.098084  0.102683  0.035856  1.000000  0.079903   \n",
       "Doors          0.185326  -0.148359 -0.036197  0.092424  0.079903  1.000000   \n",
       "Gears          0.063104  -0.005364  0.015023  0.209477  0.014629 -0.160141   \n",
       "Quarterly_Tax  0.219197  -0.198431  0.278165 -0.298432  0.306996  0.109363   \n",
       "Weight         0.581198  -0.470253 -0.028598  0.089614  0.335637  0.302618   \n",
       "\n",
       "                  Gears  Quarterly_Tax    Weight  \n",
       "Price          0.063104       0.219197  0.581198  \n",
       "Age_08_04     -0.005364      -0.198431 -0.470253  \n",
       "KM             0.015023       0.278165 -0.028598  \n",
       "HP             0.209477      -0.298432  0.089614  \n",
       "cc             0.014629       0.306996  0.335637  \n",
       "Doors         -0.160141       0.109363  0.302618  \n",
       "Gears          1.000000      -0.005452  0.020613  \n",
       "Quarterly_Tax -0.005452       1.000000  0.626134  \n",
       "Weight         0.020613       0.626134  1.000000  "
      ]
     },
     "execution_count": 10,
     "metadata": {},
     "output_type": "execute_result"
    }
   ],
   "source": [
    "data.corr()\n",
    "#correlation"
   ]
  },
  {
   "cell_type": "code",
   "execution_count": 14,
   "metadata": {
    "ExecuteTime": {
     "end_time": "2021-02-07T09:52:21.093147Z",
     "start_time": "2021-02-07T09:52:20.777966Z"
    }
   },
   "outputs": [
    {
     "data": {
      "text/plain": [
       "{'whiskers': [<matplotlib.lines.Line2D at 0x19ab168a910>,\n",
       "  <matplotlib.lines.Line2D at 0x19ab167cbe0>],\n",
       " 'caps': [<matplotlib.lines.Line2D at 0x19ab1698220>,\n",
       "  <matplotlib.lines.Line2D at 0x19ab168dc10>],\n",
       " 'boxes': [<matplotlib.lines.Line2D at 0x19ab16ae790>],\n",
       " 'medians': [<matplotlib.lines.Line2D at 0x19ab168d5e0>],\n",
       " 'fliers': [<matplotlib.lines.Line2D at 0x19ab168d9d0>],\n",
       " 'means': []}"
      ]
     },
     "execution_count": 14,
     "metadata": {},
     "output_type": "execute_result"
    },
    {
     "data": {
      "image/png": "[encoded data removed]",
      "text/plain": [
       "<Figure size 432x288 with 1 Axes>"
      ]
     },
     "metadata": {},
     "output_type": "display_data"
    }
   ],
   "source": [
    "plt.boxplot(data[\"Price\"])"
   ]
  },
  {
   "cell_type": "code",
   "execution_count": 15,
   "metadata": {
    "ExecuteTime": {
     "end_time": "2021-02-07T09:52:25.084581Z",
     "start_time": "2021-02-07T09:52:24.957572Z"
    }
   },
   "outputs": [
    {
     "data": {
      "text/plain": [
       "{'whiskers': [<matplotlib.lines.Line2D at 0x19ab13f1250>,\n",
       "  <matplotlib.lines.Line2D at 0x19ab13f17c0>],\n",
       " 'caps': [<matplotlib.lines.Line2D at 0x19ab13f1d00>,\n",
       "  <matplotlib.lines.Line2D at 0x19ab13f74f0>],\n",
       " 'boxes': [<matplotlib.lines.Line2D at 0x19ab13f1fd0>],\n",
       " 'medians': [<matplotlib.lines.Line2D at 0x19ab13f7d90>],\n",
       " 'fliers': [<matplotlib.lines.Line2D at 0x19ab13f73d0>],\n",
       " 'means': []}"
      ]
     },
     "execution_count": 15,
     "metadata": {},
     "output_type": "execute_result"
    },
    {
     "data": {
      "image/png": "[encoded data removed]",
      "text/plain": [
       "<Figure size 432x288 with 1 Axes>"
      ]
     },
     "metadata": {},
     "output_type": "display_data"
    }
   ],
   "source": [
    "plt.boxplot(data[\"Age_08_04\"])"
   ]
  },
  {
   "cell_type": "code",
   "execution_count": 17,
   "metadata": {
    "ExecuteTime": {
     "end_time": "2021-02-07T09:53:01.392572Z",
     "start_time": "2021-02-07T09:53:01.281565Z"
    }
   },
   "outputs": [
    {
     "data": {
      "text/plain": [
       "{'whiskers': [<matplotlib.lines.Line2D at 0x19ab105cd00>,\n",
       "  <matplotlib.lines.Line2D at 0x19ab105c2b0>],\n",
       " 'caps': [<matplotlib.lines.Line2D at 0x19ab104efa0>,\n",
       "  <matplotlib.lines.Line2D at 0x19ab1489250>],\n",
       " 'boxes': [<matplotlib.lines.Line2D at 0x19ab105ceb0>],\n",
       " 'medians': [<matplotlib.lines.Line2D at 0x19ab14897f0>],\n",
       " 'fliers': [<matplotlib.lines.Line2D at 0x19ab14a86a0>],\n",
       " 'means': []}"
      ]
     },
     "execution_count": 17,
     "metadata": {},
     "output_type": "execute_result"
    },
    {
     "data": {
      "image/png": "[encoded data removed]",
      "text/plain": [
       "<Figure size 432x288 with 1 Axes>"
      ]
     },
     "metadata": {},
     "output_type": "display_data"
    }
   ],
   "source": [
    "plt.boxplot(data[\"HP\"])"
   ]
  },
  {
   "cell_type": "code",
   "execution_count": 18,
   "metadata": {
    "ExecuteTime": {
     "end_time": "2021-02-07T09:53:01.946635Z",
     "start_time": "2021-02-07T09:53:01.832631Z"
    }
   },
   "outputs": [
    {
     "data": {
      "text/plain": [
       "{'whiskers': [<matplotlib.lines.Line2D at 0x19ab109df40>,\n",
       "  <matplotlib.lines.Line2D at 0x19ab10ac640>],\n",
       " 'caps': [<matplotlib.lines.Line2D at 0x19ab10ac4f0>,\n",
       "  <matplotlib.lines.Line2D at 0x19ab10ace80>],\n",
       " 'boxes': [<matplotlib.lines.Line2D at 0x19ab109d7c0>],\n",
       " 'medians': [<matplotlib.lines.Line2D at 0x19ab10ae9a0>],\n",
       " 'fliers': [<matplotlib.lines.Line2D at 0x19ab10ae520>],\n",
       " 'means': []}"
      ]
     },
     "execution_count": 18,
     "metadata": {},
     "output_type": "execute_result"
    },
    {
     "data": {
      "image/png": "[encoded data removed]",
      "text/plain": [
       "<Figure size 432x288 with 1 Axes>"
      ]
     },
     "metadata": {},
     "output_type": "display_data"
    }
   ],
   "source": [
    "plt.boxplot(data[\"cc\"])"
   ]
  },
  {
   "cell_type": "code",
   "execution_count": 19,
   "metadata": {
    "ExecuteTime": {
     "end_time": "2021-02-07T09:53:02.731575Z",
     "start_time": "2021-02-07T09:53:02.616578Z"
    }
   },
   "outputs": [
    {
     "data": {
      "text/plain": [
       "{'whiskers': [<matplotlib.lines.Line2D at 0x19ab12bcca0>,\n",
       "  <matplotlib.lines.Line2D at 0x19ab1302040>],\n",
       " 'caps': [<matplotlib.lines.Line2D at 0x19ab13023a0>,\n",
       "  <matplotlib.lines.Line2D at 0x19ab1302700>],\n",
       " 'boxes': [<matplotlib.lines.Line2D at 0x19ab12bc9a0>],\n",
       " 'medians': [<matplotlib.lines.Line2D at 0x19ab1302a60>],\n",
       " 'fliers': [<matplotlib.lines.Line2D at 0x19ab1302d60>],\n",
       " 'means': []}"
      ]
     },
     "execution_count": 19,
     "metadata": {},
     "output_type": "execute_result"
    },
    {
     "data": {
      "image/png": "[encoded data removed]",
      "text/plain": [
       "<Figure size 432x288 with 1 Axes>"
      ]
     },
     "metadata": {},
     "output_type": "display_data"
    }
   ],
   "source": [
    "plt.boxplot(data[\"Quarterly_Tax\"])"
   ]
  },
  {
   "cell_type": "code",
   "execution_count": 20,
   "metadata": {
    "ExecuteTime": {
     "end_time": "2021-02-07T09:53:03.692521Z",
     "start_time": "2021-02-07T09:53:03.572509Z"
    }
   },
   "outputs": [
    {
     "data": {
      "text/plain": [
       "{'whiskers': [<matplotlib.lines.Line2D at 0x19ab1395160>,\n",
       "  <matplotlib.lines.Line2D at 0x19ab13954c0>],\n",
       " 'caps': [<matplotlib.lines.Line2D at 0x19ab1395820>,\n",
       "  <matplotlib.lines.Line2D at 0x19ab1395b80>],\n",
       " 'boxes': [<matplotlib.lines.Line2D at 0x19ab1351dc0>],\n",
       " 'medians': [<matplotlib.lines.Line2D at 0x19ab1395ee0>],\n",
       " 'fliers': [<matplotlib.lines.Line2D at 0x19ab139e220>],\n",
       " 'means': []}"
      ]
     },
     "execution_count": 20,
     "metadata": {},
     "output_type": "execute_result"
    },
    {
     "data": {
      "image/png": "[encoded data removed]",
      "text/plain": [
       "<Figure size 432x288 with 1 Axes>"
      ]
     },
     "metadata": {},
     "output_type": "display_data"
    }
   ],
   "source": [
    "plt.boxplot(data[\"Weight\"])"
   ]
  },
  {
   "cell_type": "code",
   "execution_count": 47,
   "metadata": {
    "ExecuteTime": {
     "end_time": "2021-02-07T10:26:21.372841Z",
     "start_time": "2021-02-07T10:26:21.340853Z"
    }
   },
   "outputs": [],
   "source": [
    "#model\n",
    "import statsmodels.formula.api as smf  \n",
    "model = smf.ols(\"Price~Age_08_04+KM+HP+cc+Doors+Gears+Quarterly_Tax+Weight\",data= data).fit()"
   ]
  },
  {
   "cell_type": "code",
   "execution_count": 48,
   "metadata": {
    "ExecuteTime": {
     "end_time": "2021-02-07T10:26:22.242119Z",
     "start_time": "2021-02-07T10:26:22.221130Z"
    }
   },
   "outputs": [
    {
     "data": {
      "text/html": [
       "<table class=\"simpletable\">\n",
       "<caption>OLS Regression Results</caption>\n",
       "<tr>\n",
       "  <th>Dep. Variable:</th>          <td>Price</td>      <th>  R-squared:         </th> <td>   0.869</td> \n",
       "</tr>\n",
       "<tr>\n",
       "  <th>Model:</th>                   <td>OLS</td>       <th>  Adj. R-squared:    </th> <td>   0.869</td> \n",
       "</tr>\n",
       "<tr>\n",
       "  <th>Method:</th>             <td>Least Squares</td>  <th>  F-statistic:       </th> <td>   1186.</td> \n",
       "</tr>\n",
       "<tr>\n",
       "  <th>Date:</th>             <td>Sun, 07 Feb 2021</td> <th>  Prob (F-statistic):</th>  <td>  0.00</td>  \n",
       "</tr>\n",
       "<tr>\n",
       "  <th>Time:</th>                 <td>15:56:22</td>     <th>  Log-Likelihood:    </th> <td> -12335.</td> \n",
       "</tr>\n",
       "<tr>\n",
       "  <th>No. Observations:</th>      <td>  1435</td>      <th>  AIC:               </th> <td>2.469e+04</td>\n",
       "</tr>\n",
       "<tr>\n",
       "  <th>Df Residuals:</th>          <td>  1426</td>      <th>  BIC:               </th> <td>2.473e+04</td>\n",
       "</tr>\n",
       "<tr>\n",
       "  <th>Df Model:</th>              <td>     8</td>      <th>                     </th>     <td> </td>    \n",
       "</tr>\n",
       "<tr>\n",
       "  <th>Covariance Type:</th>      <td>nonrobust</td>    <th>                     </th>     <td> </td>    \n",
       "</tr>\n",
       "</table>\n",
       "<table class=\"simpletable\">\n",
       "<tr>\n",
       "        <td></td>           <th>coef</th>     <th>std err</th>      <th>t</th>      <th>P>|t|</th>  <th>[0.025</th>    <th>0.975]</th>  \n",
       "</tr>\n",
       "<tr>\n",
       "  <th>Intercept</th>     <td>-6284.7401</td> <td> 1382.748</td> <td>   -4.545</td> <td> 0.000</td> <td>-8997.180</td> <td>-3572.301</td>\n",
       "</tr>\n",
       "<tr>\n",
       "  <th>Age_08_04</th>     <td> -120.4550</td> <td>    2.562</td> <td>  -47.021</td> <td> 0.000</td> <td> -125.480</td> <td> -115.430</td>\n",
       "</tr>\n",
       "<tr>\n",
       "  <th>KM</th>            <td>   -0.0178</td> <td>    0.001</td> <td>  -13.973</td> <td> 0.000</td> <td>   -0.020</td> <td>   -0.015</td>\n",
       "</tr>\n",
       "<tr>\n",
       "  <th>HP</th>            <td>   39.3463</td> <td>    2.911</td> <td>   13.516</td> <td> 0.000</td> <td>   33.636</td> <td>   45.057</td>\n",
       "</tr>\n",
       "<tr>\n",
       "  <th>cc</th>            <td>   -2.5242</td> <td>    0.307</td> <td>   -8.216</td> <td> 0.000</td> <td>   -3.127</td> <td>   -1.922</td>\n",
       "</tr>\n",
       "<tr>\n",
       "  <th>Doors</th>         <td>  -27.2285</td> <td>   39.241</td> <td>   -0.694</td> <td> 0.488</td> <td> -104.206</td> <td>   49.749</td>\n",
       "</tr>\n",
       "<tr>\n",
       "  <th>Gears</th>         <td>  523.9416</td> <td>  192.865</td> <td>    2.717</td> <td> 0.007</td> <td>  145.612</td> <td>  902.271</td>\n",
       "</tr>\n",
       "<tr>\n",
       "  <th>Quarterly_Tax</th> <td>    9.0440</td> <td>    1.425</td> <td>    6.348</td> <td> 0.000</td> <td>    6.249</td> <td>   11.839</td>\n",
       "</tr>\n",
       "<tr>\n",
       "  <th>Weight</th>        <td>   20.1655</td> <td>    1.116</td> <td>   18.076</td> <td> 0.000</td> <td>   17.977</td> <td>   22.354</td>\n",
       "</tr>\n",
       "</table>\n",
       "<table class=\"simpletable\">\n",
       "<tr>\n",
       "  <th>Omnibus:</th>       <td>246.945</td> <th>  Durbin-Watson:     </th> <td>   1.595</td>\n",
       "</tr>\n",
       "<tr>\n",
       "  <th>Prob(Omnibus):</th> <td> 0.000</td>  <th>  Jarque-Bera (JB):  </th> <td>2706.374</td>\n",
       "</tr>\n",
       "<tr>\n",
       "  <th>Skew:</th>          <td>-0.443</td>  <th>  Prob(JB):          </th> <td>    0.00</td>\n",
       "</tr>\n",
       "<tr>\n",
       "  <th>Kurtosis:</th>      <td> 9.669</td>  <th>  Cond. No.          </th> <td>3.13e+06</td>\n",
       "</tr>\n",
       "</table><br/><br/>Warnings:<br/>[1] Standard Errors assume that the covariance matrix of the errors is correctly specified.<br/>[2] The condition number is large, 3.13e+06. This might indicate that there are<br/>strong multicollinearity or other numerical problems."
      ],
      "text/plain": [
       "<class 'statsmodels.iolib.summary.Summary'>\n",
       "\"\"\"\n",
       "                            OLS Regression Results                            \n",
       "==============================================================================\n",
       "Dep. Variable:                  Price   R-squared:                       0.869\n",
       "Model:                            OLS   Adj. R-squared:                  0.869\n",
       "Method:                 Least Squares   F-statistic:                     1186.\n",
       "Date:                Sun, 07 Feb 2021   Prob (F-statistic):               0.00\n",
       "Time:                        15:56:22   Log-Likelihood:                -12335.\n",
       "No. Observations:                1435   AIC:                         2.469e+04\n",
       "Df Residuals:                    1426   BIC:                         2.473e+04\n",
       "Df Model:                           8                                         \n",
       "Covariance Type:            nonrobust                                         \n",
       "=================================================================================\n",
       "                    coef    std err          t      P>|t|      [0.025      0.975]\n",
       "---------------------------------------------------------------------------------\n",
       "Intercept     -6284.7401   1382.748     -4.545      0.000   -8997.180   -3572.301\n",
       "Age_08_04      -120.4550      2.562    -47.021      0.000    -125.480    -115.430\n",
       "KM               -0.0178      0.001    -13.973      0.000      -0.020      -0.015\n",
       "HP               39.3463      2.911     13.516      0.000      33.636      45.057\n",
       "cc               -2.5242      0.307     -8.216      0.000      -3.127      -1.922\n",
       "Doors           -27.2285     39.241     -0.694      0.488    -104.206      49.749\n",
       "Gears           523.9416    192.865      2.717      0.007     145.612     902.271\n",
       "Quarterly_Tax     9.0440      1.425      6.348      0.000       6.249      11.839\n",
       "Weight           20.1655      1.116     18.076      0.000      17.977      22.354\n",
       "==============================================================================\n",
       "Omnibus:                      246.945   Durbin-Watson:                   1.595\n",
       "Prob(Omnibus):                  0.000   Jarque-Bera (JB):             2706.374\n",
       "Skew:                          -0.443   Prob(JB):                         0.00\n",
       "Kurtosis:                       9.669   Cond. No.                     3.13e+06\n",
       "==============================================================================\n",
       "\n",
       "Warnings:\n",
       "[1] Standard Errors assume that the covariance matrix of the errors is correctly specified.\n",
       "[2] The condition number is large, 3.13e+06. This might indicate that there are\n",
       "strong multicollinearity or other numerical problems.\n",
       "\"\"\""
      ]
     },
     "execution_count": 48,
     "metadata": {},
     "output_type": "execute_result"
    }
   ],
   "source": [
    "model.summary()"
   ]
  },
  {
   "cell_type": "code",
   "execution_count": 49,
   "metadata": {
    "ExecuteTime": {
     "end_time": "2021-02-07T10:26:23.511921Z",
     "start_time": "2021-02-07T10:26:23.507922Z"
    }
   },
   "outputs": [],
   "source": [
    "#cc and doors have high p value and they are significant\n",
    "#so lest build individual model with price and cc= model1 and doors and price = model2  \n",
    "#finally model3 =  combined \n"
   ]
  },
  {
   "cell_type": "code",
   "execution_count": 50,
   "metadata": {
    "ExecuteTime": {
     "end_time": "2021-02-07T10:26:27.047148Z",
     "start_time": "2021-02-07T10:26:27.020146Z"
    }
   },
   "outputs": [
    {
     "data": {
      "text/html": [
       "<table class=\"simpletable\">\n",
       "<caption>OLS Regression Results</caption>\n",
       "<tr>\n",
       "  <th>Dep. Variable:</th>          <td>Price</td>      <th>  R-squared:         </th> <td>   0.027</td> \n",
       "</tr>\n",
       "<tr>\n",
       "  <th>Model:</th>                   <td>OLS</td>       <th>  Adj. R-squared:    </th> <td>   0.027</td> \n",
       "</tr>\n",
       "<tr>\n",
       "  <th>Method:</th>             <td>Least Squares</td>  <th>  F-statistic:       </th> <td>   40.15</td> \n",
       "</tr>\n",
       "<tr>\n",
       "  <th>Date:</th>             <td>Sun, 07 Feb 2021</td> <th>  Prob (F-statistic):</th> <td>3.15e-10</td> \n",
       "</tr>\n",
       "<tr>\n",
       "  <th>Time:</th>                 <td>15:56:27</td>     <th>  Log-Likelihood:    </th> <td> -13775.</td> \n",
       "</tr>\n",
       "<tr>\n",
       "  <th>No. Observations:</th>      <td>  1435</td>      <th>  AIC:               </th> <td>2.755e+04</td>\n",
       "</tr>\n",
       "<tr>\n",
       "  <th>Df Residuals:</th>          <td>  1433</td>      <th>  BIC:               </th> <td>2.757e+04</td>\n",
       "</tr>\n",
       "<tr>\n",
       "  <th>Df Model:</th>              <td>     1</td>      <th>                     </th>     <td> </td>    \n",
       "</tr>\n",
       "<tr>\n",
       "  <th>Covariance Type:</th>      <td>nonrobust</td>    <th>                     </th>     <td> </td>    \n",
       "</tr>\n",
       "</table>\n",
       "<table class=\"simpletable\">\n",
       "<tr>\n",
       "      <td></td>         <th>coef</th>     <th>std err</th>      <th>t</th>      <th>P>|t|</th>  <th>[0.025</th>    <th>0.975]</th>  \n",
       "</tr>\n",
       "<tr>\n",
       "  <th>Intercept</th> <td> 5722.1559</td> <td>  795.194</td> <td>    7.196</td> <td> 0.000</td> <td> 4162.287</td> <td> 7282.025</td>\n",
       "</tr>\n",
       "<tr>\n",
       "  <th>cc</th>        <td>    3.1931</td> <td>    0.504</td> <td>    6.336</td> <td> 0.000</td> <td>    2.205</td> <td>    4.182</td>\n",
       "</tr>\n",
       "</table>\n",
       "<table class=\"simpletable\">\n",
       "<tr>\n",
       "  <th>Omnibus:</th>       <td>410.619</td> <th>  Durbin-Watson:     </th> <td>   0.253</td> \n",
       "</tr>\n",
       "<tr>\n",
       "  <th>Prob(Omnibus):</th> <td> 0.000</td>  <th>  Jarque-Bera (JB):  </th> <td>1077.826</td> \n",
       "</tr>\n",
       "<tr>\n",
       "  <th>Skew:</th>          <td> 1.505</td>  <th>  Prob(JB):          </th> <td>8.97e-235</td>\n",
       "</tr>\n",
       "<tr>\n",
       "  <th>Kurtosis:</th>      <td> 5.995</td>  <th>  Cond. No.          </th> <td>1.33e+04</td> \n",
       "</tr>\n",
       "</table><br/><br/>Warnings:<br/>[1] Standard Errors assume that the covariance matrix of the errors is correctly specified.<br/>[2] The condition number is large, 1.33e+04. This might indicate that there are<br/>strong multicollinearity or other numerical problems."
      ],
      "text/plain": [
       "<class 'statsmodels.iolib.summary.Summary'>\n",
       "\"\"\"\n",
       "                            OLS Regression Results                            \n",
       "==============================================================================\n",
       "Dep. Variable:                  Price   R-squared:                       0.027\n",
       "Model:                            OLS   Adj. R-squared:                  0.027\n",
       "Method:                 Least Squares   F-statistic:                     40.15\n",
       "Date:                Sun, 07 Feb 2021   Prob (F-statistic):           3.15e-10\n",
       "Time:                        15:56:27   Log-Likelihood:                -13775.\n",
       "No. Observations:                1435   AIC:                         2.755e+04\n",
       "Df Residuals:                    1433   BIC:                         2.757e+04\n",
       "Df Model:                           1                                         \n",
       "Covariance Type:            nonrobust                                         \n",
       "==============================================================================\n",
       "                 coef    std err          t      P>|t|      [0.025      0.975]\n",
       "------------------------------------------------------------------------------\n",
       "Intercept   5722.1559    795.194      7.196      0.000    4162.287    7282.025\n",
       "cc             3.1931      0.504      6.336      0.000       2.205       4.182\n",
       "==============================================================================\n",
       "Omnibus:                      410.619   Durbin-Watson:                   0.253\n",
       "Prob(Omnibus):                  0.000   Jarque-Bera (JB):             1077.826\n",
       "Skew:                           1.505   Prob(JB):                    8.97e-235\n",
       "Kurtosis:                       5.995   Cond. No.                     1.33e+04\n",
       "==============================================================================\n",
       "\n",
       "Warnings:\n",
       "[1] Standard Errors assume that the covariance matrix of the errors is correctly specified.\n",
       "[2] The condition number is large, 1.33e+04. This might indicate that there are\n",
       "strong multicollinearity or other numerical problems.\n",
       "\"\"\""
      ]
     },
     "execution_count": 50,
     "metadata": {},
     "output_type": "execute_result"
    }
   ],
   "source": [
    "## building on individual model\n",
    "model1 = smf.ols(\"Price~cc\",data= data).fit()\n",
    "model1.summary()\n",
    "## cc is significant\n",
    " "
   ]
  },
  {
   "cell_type": "code",
   "execution_count": 51,
   "metadata": {
    "ExecuteTime": {
     "end_time": "2021-02-07T10:26:29.209342Z",
     "start_time": "2021-02-07T10:26:29.184342Z"
    }
   },
   "outputs": [
    {
     "data": {
      "text/html": [
       "<table class=\"simpletable\">\n",
       "<caption>OLS Regression Results</caption>\n",
       "<tr>\n",
       "  <th>Dep. Variable:</th>          <td>Price</td>      <th>  R-squared:         </th> <td>   0.034</td> \n",
       "</tr>\n",
       "<tr>\n",
       "  <th>Model:</th>                   <td>OLS</td>       <th>  Adj. R-squared:    </th> <td>   0.033</td> \n",
       "</tr>\n",
       "<tr>\n",
       "  <th>Method:</th>             <td>Least Squares</td>  <th>  F-statistic:       </th> <td>   50.28</td> \n",
       "</tr>\n",
       "<tr>\n",
       "  <th>Date:</th>             <td>Sun, 07 Feb 2021</td> <th>  Prob (F-statistic):</th> <td>2.08e-12</td> \n",
       "</tr>\n",
       "<tr>\n",
       "  <th>Time:</th>                 <td>15:56:29</td>     <th>  Log-Likelihood:    </th> <td> -13770.</td> \n",
       "</tr>\n",
       "<tr>\n",
       "  <th>No. Observations:</th>      <td>  1435</td>      <th>  AIC:               </th> <td>2.754e+04</td>\n",
       "</tr>\n",
       "<tr>\n",
       "  <th>Df Residuals:</th>          <td>  1433</td>      <th>  BIC:               </th> <td>2.756e+04</td>\n",
       "</tr>\n",
       "<tr>\n",
       "  <th>Df Model:</th>              <td>     1</td>      <th>                     </th>     <td> </td>    \n",
       "</tr>\n",
       "<tr>\n",
       "  <th>Covariance Type:</th>      <td>nonrobust</td>    <th>                     </th>     <td> </td>    \n",
       "</tr>\n",
       "</table>\n",
       "<table class=\"simpletable\">\n",
       "<tr>\n",
       "      <td></td>         <th>coef</th>     <th>std err</th>      <th>t</th>      <th>P>|t|</th>  <th>[0.025</th>    <th>0.975]</th>  \n",
       "</tr>\n",
       "<tr>\n",
       "  <th>Intercept</th> <td> 7902.3435</td> <td>  409.024</td> <td>   19.320</td> <td> 0.000</td> <td> 7099.994</td> <td> 8704.693</td>\n",
       "</tr>\n",
       "<tr>\n",
       "  <th>Doors</th>     <td>  699.9570</td> <td>   98.710</td> <td>    7.091</td> <td> 0.000</td> <td>  506.325</td> <td>  893.589</td>\n",
       "</tr>\n",
       "</table>\n",
       "<table class=\"simpletable\">\n",
       "<tr>\n",
       "  <th>Omnibus:</th>       <td>469.140</td> <th>  Durbin-Watson:     </th> <td>   0.287</td> \n",
       "</tr>\n",
       "<tr>\n",
       "  <th>Prob(Omnibus):</th> <td> 0.000</td>  <th>  Jarque-Bera (JB):  </th> <td>1425.301</td> \n",
       "</tr>\n",
       "<tr>\n",
       "  <th>Skew:</th>          <td> 1.657</td>  <th>  Prob(JB):          </th> <td>3.16e-310</td>\n",
       "</tr>\n",
       "<tr>\n",
       "  <th>Kurtosis:</th>      <td> 6.585</td>  <th>  Cond. No.          </th> <td>    19.0</td> \n",
       "</tr>\n",
       "</table><br/><br/>Warnings:<br/>[1] Standard Errors assume that the covariance matrix of the errors is correctly specified."
      ],
      "text/plain": [
       "<class 'statsmodels.iolib.summary.Summary'>\n",
       "\"\"\"\n",
       "                            OLS Regression Results                            \n",
       "==============================================================================\n",
       "Dep. Variable:                  Price   R-squared:                       0.034\n",
       "Model:                            OLS   Adj. R-squared:                  0.033\n",
       "Method:                 Least Squares   F-statistic:                     50.28\n",
       "Date:                Sun, 07 Feb 2021   Prob (F-statistic):           2.08e-12\n",
       "Time:                        15:56:29   Log-Likelihood:                -13770.\n",
       "No. Observations:                1435   AIC:                         2.754e+04\n",
       "Df Residuals:                    1433   BIC:                         2.756e+04\n",
       "Df Model:                           1                                         \n",
       "Covariance Type:            nonrobust                                         \n",
       "==============================================================================\n",
       "                 coef    std err          t      P>|t|      [0.025      0.975]\n",
       "------------------------------------------------------------------------------\n",
       "Intercept   7902.3435    409.024     19.320      0.000    7099.994    8704.693\n",
       "Doors        699.9570     98.710      7.091      0.000     506.325     893.589\n",
       "==============================================================================\n",
       "Omnibus:                      469.140   Durbin-Watson:                   0.287\n",
       "Prob(Omnibus):                  0.000   Jarque-Bera (JB):             1425.301\n",
       "Skew:                           1.657   Prob(JB):                    3.16e-310\n",
       "Kurtosis:                       6.585   Cond. No.                         19.0\n",
       "==============================================================================\n",
       "\n",
       "Warnings:\n",
       "[1] Standard Errors assume that the covariance matrix of the errors is correctly specified.\n",
       "\"\"\""
      ]
     },
     "execution_count": 51,
     "metadata": {},
     "output_type": "execute_result"
    }
   ],
   "source": [
    "## building on individual model\n",
    "model2 = smf.ols(\"Price~Doors\",data= data).fit()\n",
    "model2.summary()\n",
    "## door is significant"
   ]
  },
  {
   "cell_type": "code",
   "execution_count": 52,
   "metadata": {
    "ExecuteTime": {
     "end_time": "2021-02-07T10:26:30.005807Z",
     "start_time": "2021-02-07T10:26:29.976804Z"
    }
   },
   "outputs": [
    {
     "data": {
      "text/html": [
       "<table class=\"simpletable\">\n",
       "<caption>OLS Regression Results</caption>\n",
       "<tr>\n",
       "  <th>Dep. Variable:</th>          <td>Price</td>      <th>  R-squared:         </th> <td>   0.054</td> \n",
       "</tr>\n",
       "<tr>\n",
       "  <th>Model:</th>                   <td>OLS</td>       <th>  Adj. R-squared:    </th> <td>   0.053</td> \n",
       "</tr>\n",
       "<tr>\n",
       "  <th>Method:</th>             <td>Least Squares</td>  <th>  F-statistic:       </th> <td>   41.13</td> \n",
       "</tr>\n",
       "<tr>\n",
       "  <th>Date:</th>             <td>Sun, 07 Feb 2021</td> <th>  Prob (F-statistic):</th> <td>4.28e-18</td> \n",
       "</tr>\n",
       "<tr>\n",
       "  <th>Time:</th>                 <td>15:56:29</td>     <th>  Log-Likelihood:    </th> <td> -13755.</td> \n",
       "</tr>\n",
       "<tr>\n",
       "  <th>No. Observations:</th>      <td>  1435</td>      <th>  AIC:               </th> <td>2.752e+04</td>\n",
       "</tr>\n",
       "<tr>\n",
       "  <th>Df Residuals:</th>          <td>  1432</td>      <th>  BIC:               </th> <td>2.753e+04</td>\n",
       "</tr>\n",
       "<tr>\n",
       "  <th>Df Model:</th>              <td>     2</td>      <th>                     </th>     <td> </td>    \n",
       "</tr>\n",
       "<tr>\n",
       "  <th>Covariance Type:</th>      <td>nonrobust</td>    <th>                     </th>     <td> </td>    \n",
       "</tr>\n",
       "</table>\n",
       "<table class=\"simpletable\">\n",
       "<tr>\n",
       "      <td></td>         <th>coef</th>     <th>std err</th>      <th>t</th>      <th>P>|t|</th>  <th>[0.025</th>    <th>0.975]</th>  \n",
       "</tr>\n",
       "<tr>\n",
       "  <th>Intercept</th> <td> 3816.0496</td> <td>  838.929</td> <td>    4.549</td> <td> 0.000</td> <td> 2170.389</td> <td> 5461.710</td>\n",
       "</tr>\n",
       "<tr>\n",
       "  <th>cc</th>        <td>    2.7866</td> <td>    0.501</td> <td>    5.561</td> <td> 0.000</td> <td>    1.804</td> <td>    3.770</td>\n",
       "</tr>\n",
       "<tr>\n",
       "  <th>Doors</th>     <td>  630.5679</td> <td>   98.489</td> <td>    6.402</td> <td> 0.000</td> <td>  437.370</td> <td>  823.766</td>\n",
       "</tr>\n",
       "</table>\n",
       "<table class=\"simpletable\">\n",
       "<tr>\n",
       "  <th>Omnibus:</th>       <td>399.786</td> <th>  Durbin-Watson:     </th> <td>   0.276</td> \n",
       "</tr>\n",
       "<tr>\n",
       "  <th>Prob(Omnibus):</th> <td> 0.000</td>  <th>  Jarque-Bera (JB):  </th> <td>1027.799</td> \n",
       "</tr>\n",
       "<tr>\n",
       "  <th>Skew:</th>          <td> 1.474</td>  <th>  Prob(JB):          </th> <td>6.55e-224</td>\n",
       "</tr>\n",
       "<tr>\n",
       "  <th>Kurtosis:</th>      <td> 5.916</td>  <th>  Cond. No.          </th> <td>1.42e+04</td> \n",
       "</tr>\n",
       "</table><br/><br/>Warnings:<br/>[1] Standard Errors assume that the covariance matrix of the errors is correctly specified.<br/>[2] The condition number is large, 1.42e+04. This might indicate that there are<br/>strong multicollinearity or other numerical problems."
      ],
      "text/plain": [
       "<class 'statsmodels.iolib.summary.Summary'>\n",
       "\"\"\"\n",
       "                            OLS Regression Results                            \n",
       "==============================================================================\n",
       "Dep. Variable:                  Price   R-squared:                       0.054\n",
       "Model:                            OLS   Adj. R-squared:                  0.053\n",
       "Method:                 Least Squares   F-statistic:                     41.13\n",
       "Date:                Sun, 07 Feb 2021   Prob (F-statistic):           4.28e-18\n",
       "Time:                        15:56:29   Log-Likelihood:                -13755.\n",
       "No. Observations:                1435   AIC:                         2.752e+04\n",
       "Df Residuals:                    1432   BIC:                         2.753e+04\n",
       "Df Model:                           2                                         \n",
       "Covariance Type:            nonrobust                                         \n",
       "==============================================================================\n",
       "                 coef    std err          t      P>|t|      [0.025      0.975]\n",
       "------------------------------------------------------------------------------\n",
       "Intercept   3816.0496    838.929      4.549      0.000    2170.389    5461.710\n",
       "cc             2.7866      0.501      5.561      0.000       1.804       3.770\n",
       "Doors        630.5679     98.489      6.402      0.000     437.370     823.766\n",
       "==============================================================================\n",
       "Omnibus:                      399.786   Durbin-Watson:                   0.276\n",
       "Prob(Omnibus):                  0.000   Jarque-Bera (JB):             1027.799\n",
       "Skew:                           1.474   Prob(JB):                    6.55e-224\n",
       "Kurtosis:                       5.916   Cond. No.                     1.42e+04\n",
       "==============================================================================\n",
       "\n",
       "Warnings:\n",
       "[1] Standard Errors assume that the covariance matrix of the errors is correctly specified.\n",
       "[2] The condition number is large, 1.42e+04. This might indicate that there are\n",
       "strong multicollinearity or other numerical problems.\n",
       "\"\"\""
      ]
     },
     "execution_count": 52,
     "metadata": {},
     "output_type": "execute_result"
    }
   ],
   "source": [
    "model3 = smf.ols(\"Price~cc+Doors\",data= data).fit()\n",
    "model3.summary()"
   ]
  },
  {
   "cell_type": "code",
   "execution_count": 53,
   "metadata": {
    "ExecuteTime": {
     "end_time": "2021-02-07T10:26:34.442492Z",
     "start_time": "2021-02-07T10:26:31.514872Z"
    }
   },
   "outputs": [
    {
     "data": {
      "image/png": "[encoded data removed]",
      "text/plain": [
       "<Figure size 432x288 with 1 Axes>"
      ]
     },
     "execution_count": 53,
     "metadata": {},
     "output_type": "execute_result"
    },
    {
     "data": {
      "image/png": "[encoded data removed]",
      "text/plain": [
       "<Figure size 432x288 with 1 Axes>"
      ]
     },
     "metadata": {},
     "output_type": "display_data"
    }
   ],
   "source": [
    "##plotting the influence plot\n",
    "import statsmodels.api as sm\n",
    "sm.graphics.influence_plot(model)"
   ]
  },
  {
   "cell_type": "code",
   "execution_count": 54,
   "metadata": {
    "ExecuteTime": {
     "end_time": "2021-02-07T10:26:48.248831Z",
     "start_time": "2021-02-07T10:26:48.243827Z"
    }
   },
   "outputs": [],
   "source": [
    "#lets remove the observation = 80\n",
    "data1 = data.drop(data.index[[80]],axis=0)"
   ]
  },
  {
   "cell_type": "code",
   "execution_count": 55,
   "metadata": {
    "ExecuteTime": {
     "end_time": "2021-02-07T10:26:49.107337Z",
     "start_time": "2021-02-07T10:26:49.076353Z"
    }
   },
   "outputs": [],
   "source": [
    "#lets build model again\n",
    "modelA = smf.ols(\"Price~Age_08_04+KM+HP+cc+Doors+Gears+Quarterly_Tax+Weight\",data= data1).fit()"
   ]
  },
  {
   "cell_type": "code",
   "execution_count": 56,
   "metadata": {
    "ExecuteTime": {
     "end_time": "2021-02-07T10:26:50.023841Z",
     "start_time": "2021-02-07T10:26:50.000839Z"
    }
   },
   "outputs": [
    {
     "data": {
      "text/html": [
       "<table class=\"simpletable\">\n",
       "<caption>OLS Regression Results</caption>\n",
       "<tr>\n",
       "  <th>Dep. Variable:</th>          <td>Price</td>      <th>  R-squared:         </th> <td>   0.869</td> \n",
       "</tr>\n",
       "<tr>\n",
       "  <th>Model:</th>                   <td>OLS</td>       <th>  Adj. R-squared:    </th> <td>   0.868</td> \n",
       "</tr>\n",
       "<tr>\n",
       "  <th>Method:</th>             <td>Least Squares</td>  <th>  F-statistic:       </th> <td>   1183.</td> \n",
       "</tr>\n",
       "<tr>\n",
       "  <th>Date:</th>             <td>Sun, 07 Feb 2021</td> <th>  Prob (F-statistic):</th>  <td>  0.00</td>  \n",
       "</tr>\n",
       "<tr>\n",
       "  <th>Time:</th>                 <td>15:56:50</td>     <th>  Log-Likelihood:    </th> <td> -12326.</td> \n",
       "</tr>\n",
       "<tr>\n",
       "  <th>No. Observations:</th>      <td>  1434</td>      <th>  AIC:               </th> <td>2.467e+04</td>\n",
       "</tr>\n",
       "<tr>\n",
       "  <th>Df Residuals:</th>          <td>  1425</td>      <th>  BIC:               </th> <td>2.472e+04</td>\n",
       "</tr>\n",
       "<tr>\n",
       "  <th>Df Model:</th>              <td>     8</td>      <th>                     </th>     <td> </td>    \n",
       "</tr>\n",
       "<tr>\n",
       "  <th>Covariance Type:</th>      <td>nonrobust</td>    <th>                     </th>     <td> </td>    \n",
       "</tr>\n",
       "</table>\n",
       "<table class=\"simpletable\">\n",
       "<tr>\n",
       "        <td></td>           <th>coef</th>     <th>std err</th>      <th>t</th>      <th>P>|t|</th>  <th>[0.025</th>    <th>0.975]</th>  \n",
       "</tr>\n",
       "<tr>\n",
       "  <th>Intercept</th>     <td>-6281.3154</td> <td> 1382.716</td> <td>   -4.543</td> <td> 0.000</td> <td>-8993.693</td> <td>-3568.938</td>\n",
       "</tr>\n",
       "<tr>\n",
       "  <th>Age_08_04</th>     <td> -120.4096</td> <td>    2.562</td> <td>  -46.998</td> <td> 0.000</td> <td> -125.435</td> <td> -115.384</td>\n",
       "</tr>\n",
       "<tr>\n",
       "  <th>KM</th>            <td>   -0.0178</td> <td>    0.001</td> <td>  -13.954</td> <td> 0.000</td> <td>   -0.020</td> <td>   -0.015</td>\n",
       "</tr>\n",
       "<tr>\n",
       "  <th>HP</th>            <td>   39.3549</td> <td>    2.911</td> <td>   13.519</td> <td> 0.000</td> <td>   33.644</td> <td>   45.065</td>\n",
       "</tr>\n",
       "<tr>\n",
       "  <th>cc</th>            <td>   -2.5267</td> <td>    0.307</td> <td>   -8.224</td> <td> 0.000</td> <td>   -3.129</td> <td>   -1.924</td>\n",
       "</tr>\n",
       "<tr>\n",
       "  <th>Doors</th>         <td>  -28.0419</td> <td>   39.248</td> <td>   -0.714</td> <td> 0.475</td> <td> -105.032</td> <td>   48.949</td>\n",
       "</tr>\n",
       "<tr>\n",
       "  <th>Gears</th>         <td>  523.9417</td> <td>  192.860</td> <td>    2.717</td> <td> 0.007</td> <td>  145.621</td> <td>  902.262</td>\n",
       "</tr>\n",
       "<tr>\n",
       "  <th>Quarterly_Tax</th> <td>    9.0568</td> <td>    1.425</td> <td>    6.356</td> <td> 0.000</td> <td>    6.262</td> <td>   11.852</td>\n",
       "</tr>\n",
       "<tr>\n",
       "  <th>Weight</th>        <td>   20.1625</td> <td>    1.116</td> <td>   18.073</td> <td> 0.000</td> <td>   17.974</td> <td>   22.351</td>\n",
       "</tr>\n",
       "</table>\n",
       "<table class=\"simpletable\">\n",
       "<tr>\n",
       "  <th>Omnibus:</th>       <td>246.389</td> <th>  Durbin-Watson:     </th> <td>   1.592</td>\n",
       "</tr>\n",
       "<tr>\n",
       "  <th>Prob(Omnibus):</th> <td> 0.000</td>  <th>  Jarque-Bera (JB):  </th> <td>2708.190</td>\n",
       "</tr>\n",
       "<tr>\n",
       "  <th>Skew:</th>          <td>-0.441</td>  <th>  Prob(JB):          </th> <td>    0.00</td>\n",
       "</tr>\n",
       "<tr>\n",
       "  <th>Kurtosis:</th>      <td> 9.675</td>  <th>  Cond. No.          </th> <td>3.13e+06</td>\n",
       "</tr>\n",
       "</table><br/><br/>Warnings:<br/>[1] Standard Errors assume that the covariance matrix of the errors is correctly specified.<br/>[2] The condition number is large, 3.13e+06. This might indicate that there are<br/>strong multicollinearity or other numerical problems."
      ],
      "text/plain": [
       "<class 'statsmodels.iolib.summary.Summary'>\n",
       "\"\"\"\n",
       "                            OLS Regression Results                            \n",
       "==============================================================================\n",
       "Dep. Variable:                  Price   R-squared:                       0.869\n",
       "Model:                            OLS   Adj. R-squared:                  0.868\n",
       "Method:                 Least Squares   F-statistic:                     1183.\n",
       "Date:                Sun, 07 Feb 2021   Prob (F-statistic):               0.00\n",
       "Time:                        15:56:50   Log-Likelihood:                -12326.\n",
       "No. Observations:                1434   AIC:                         2.467e+04\n",
       "Df Residuals:                    1425   BIC:                         2.472e+04\n",
       "Df Model:                           8                                         \n",
       "Covariance Type:            nonrobust                                         \n",
       "=================================================================================\n",
       "                    coef    std err          t      P>|t|      [0.025      0.975]\n",
       "---------------------------------------------------------------------------------\n",
       "Intercept     -6281.3154   1382.716     -4.543      0.000   -8993.693   -3568.938\n",
       "Age_08_04      -120.4096      2.562    -46.998      0.000    -125.435    -115.384\n",
       "KM               -0.0178      0.001    -13.954      0.000      -0.020      -0.015\n",
       "HP               39.3549      2.911     13.519      0.000      33.644      45.065\n",
       "cc               -2.5267      0.307     -8.224      0.000      -3.129      -1.924\n",
       "Doors           -28.0419     39.248     -0.714      0.475    -105.032      48.949\n",
       "Gears           523.9417    192.860      2.717      0.007     145.621     902.262\n",
       "Quarterly_Tax     9.0568      1.425      6.356      0.000       6.262      11.852\n",
       "Weight           20.1625      1.116     18.073      0.000      17.974      22.351\n",
       "==============================================================================\n",
       "Omnibus:                      246.389   Durbin-Watson:                   1.592\n",
       "Prob(Omnibus):                  0.000   Jarque-Bera (JB):             2708.190\n",
       "Skew:                          -0.441   Prob(JB):                         0.00\n",
       "Kurtosis:                       9.675   Cond. No.                     3.13e+06\n",
       "==============================================================================\n",
       "\n",
       "Warnings:\n",
       "[1] Standard Errors assume that the covariance matrix of the errors is correctly specified.\n",
       "[2] The condition number is large, 3.13e+06. This might indicate that there are\n",
       "strong multicollinearity or other numerical problems.\n",
       "\"\"\""
      ]
     },
     "execution_count": 56,
     "metadata": {},
     "output_type": "execute_result"
    }
   ],
   "source": [
    "modelA.summary()"
   ]
  },
  {
   "cell_type": "code",
   "execution_count": 57,
   "metadata": {
    "ExecuteTime": {
     "end_time": "2021-02-07T10:26:51.029237Z",
     "start_time": "2021-02-07T10:26:51.024235Z"
    }
   },
   "outputs": [],
   "source": [
    "#lets remove the next influencing observation 960 and 221\n",
    "data2 = data1.drop(data.index[[960,221]],axis=0)"
   ]
  },
  {
   "cell_type": "code",
   "execution_count": 58,
   "metadata": {
    "ExecuteTime": {
     "end_time": "2021-02-07T10:26:51.946204Z",
     "start_time": "2021-02-07T10:26:51.902221Z"
    }
   },
   "outputs": [
    {
     "data": {
      "text/html": [
       "<table class=\"simpletable\">\n",
       "<caption>OLS Regression Results</caption>\n",
       "<tr>\n",
       "  <th>Dep. Variable:</th>          <td>Price</td>      <th>  R-squared:         </th> <td>   0.869</td> \n",
       "</tr>\n",
       "<tr>\n",
       "  <th>Model:</th>                   <td>OLS</td>       <th>  Adj. R-squared:    </th> <td>   0.869</td> \n",
       "</tr>\n",
       "<tr>\n",
       "  <th>Method:</th>             <td>Least Squares</td>  <th>  F-statistic:       </th> <td>   1184.</td> \n",
       "</tr>\n",
       "<tr>\n",
       "  <th>Date:</th>             <td>Sun, 07 Feb 2021</td> <th>  Prob (F-statistic):</th>  <td>  0.00</td>  \n",
       "</tr>\n",
       "<tr>\n",
       "  <th>Time:</th>                 <td>15:56:51</td>     <th>  Log-Likelihood:    </th> <td> -12308.</td> \n",
       "</tr>\n",
       "<tr>\n",
       "  <th>No. Observations:</th>      <td>  1432</td>      <th>  AIC:               </th> <td>2.463e+04</td>\n",
       "</tr>\n",
       "<tr>\n",
       "  <th>Df Residuals:</th>          <td>  1423</td>      <th>  BIC:               </th> <td>2.468e+04</td>\n",
       "</tr>\n",
       "<tr>\n",
       "  <th>Df Model:</th>              <td>     8</td>      <th>                     </th>     <td> </td>    \n",
       "</tr>\n",
       "<tr>\n",
       "  <th>Covariance Type:</th>      <td>nonrobust</td>    <th>                     </th>     <td> </td>    \n",
       "</tr>\n",
       "</table>\n",
       "<table class=\"simpletable\">\n",
       "<tr>\n",
       "        <td></td>           <th>coef</th>     <th>std err</th>      <th>t</th>      <th>P>|t|</th>  <th>[0.025</th>    <th>0.975]</th>  \n",
       "</tr>\n",
       "<tr>\n",
       "  <th>Intercept</th>     <td>-6260.9495</td> <td> 1382.419</td> <td>   -4.529</td> <td> 0.000</td> <td>-8972.748</td> <td>-3549.151</td>\n",
       "</tr>\n",
       "<tr>\n",
       "  <th>Age_08_04</th>     <td> -120.4142</td> <td>    2.563</td> <td>  -46.985</td> <td> 0.000</td> <td> -125.442</td> <td> -115.387</td>\n",
       "</tr>\n",
       "<tr>\n",
       "  <th>KM</th>            <td>   -0.0178</td> <td>    0.001</td> <td>  -13.968</td> <td> 0.000</td> <td>   -0.020</td> <td>   -0.015</td>\n",
       "</tr>\n",
       "<tr>\n",
       "  <th>HP</th>            <td>   39.4247</td> <td>    2.911</td> <td>   13.545</td> <td> 0.000</td> <td>   33.715</td> <td>   45.134</td>\n",
       "</tr>\n",
       "<tr>\n",
       "  <th>cc</th>            <td>   -2.5209</td> <td>    0.307</td> <td>   -8.207</td> <td> 0.000</td> <td>   -3.123</td> <td>   -1.918</td>\n",
       "</tr>\n",
       "<tr>\n",
       "  <th>Doors</th>         <td>  -25.5917</td> <td>   39.265</td> <td>   -0.652</td> <td> 0.515</td> <td> -102.615</td> <td>   51.431</td>\n",
       "</tr>\n",
       "<tr>\n",
       "  <th>Gears</th>         <td>  523.2874</td> <td>  192.797</td> <td>    2.714</td> <td> 0.007</td> <td>  145.090</td> <td>  901.485</td>\n",
       "</tr>\n",
       "<tr>\n",
       "  <th>Quarterly_Tax</th> <td>    9.0727</td> <td>    1.424</td> <td>    6.370</td> <td> 0.000</td> <td>    6.279</td> <td>   11.867</td>\n",
       "</tr>\n",
       "<tr>\n",
       "  <th>Weight</th>        <td>   20.1244</td> <td>    1.116</td> <td>   18.040</td> <td> 0.000</td> <td>   17.936</td> <td>   22.313</td>\n",
       "</tr>\n",
       "</table>\n",
       "<table class=\"simpletable\">\n",
       "<tr>\n",
       "  <th>Omnibus:</th>       <td>245.672</td> <th>  Durbin-Watson:     </th> <td>   1.623</td>\n",
       "</tr>\n",
       "<tr>\n",
       "  <th>Prob(Omnibus):</th> <td> 0.000</td>  <th>  Jarque-Bera (JB):  </th> <td>2695.301</td>\n",
       "</tr>\n",
       "<tr>\n",
       "  <th>Skew:</th>          <td>-0.440</td>  <th>  Prob(JB):          </th> <td>    0.00</td>\n",
       "</tr>\n",
       "<tr>\n",
       "  <th>Kurtosis:</th>      <td> 9.663</td>  <th>  Cond. No.          </th> <td>3.13e+06</td>\n",
       "</tr>\n",
       "</table><br/><br/>Warnings:<br/>[1] Standard Errors assume that the covariance matrix of the errors is correctly specified.<br/>[2] The condition number is large, 3.13e+06. This might indicate that there are<br/>strong multicollinearity or other numerical problems."
      ],
      "text/plain": [
       "<class 'statsmodels.iolib.summary.Summary'>\n",
       "\"\"\"\n",
       "                            OLS Regression Results                            \n",
       "==============================================================================\n",
       "Dep. Variable:                  Price   R-squared:                       0.869\n",
       "Model:                            OLS   Adj. R-squared:                  0.869\n",
       "Method:                 Least Squares   F-statistic:                     1184.\n",
       "Date:                Sun, 07 Feb 2021   Prob (F-statistic):               0.00\n",
       "Time:                        15:56:51   Log-Likelihood:                -12308.\n",
       "No. Observations:                1432   AIC:                         2.463e+04\n",
       "Df Residuals:                    1423   BIC:                         2.468e+04\n",
       "Df Model:                           8                                         \n",
       "Covariance Type:            nonrobust                                         \n",
       "=================================================================================\n",
       "                    coef    std err          t      P>|t|      [0.025      0.975]\n",
       "---------------------------------------------------------------------------------\n",
       "Intercept     -6260.9495   1382.419     -4.529      0.000   -8972.748   -3549.151\n",
       "Age_08_04      -120.4142      2.563    -46.985      0.000    -125.442    -115.387\n",
       "KM               -0.0178      0.001    -13.968      0.000      -0.020      -0.015\n",
       "HP               39.4247      2.911     13.545      0.000      33.715      45.134\n",
       "cc               -2.5209      0.307     -8.207      0.000      -3.123      -1.918\n",
       "Doors           -25.5917     39.265     -0.652      0.515    -102.615      51.431\n",
       "Gears           523.2874    192.797      2.714      0.007     145.090     901.485\n",
       "Quarterly_Tax     9.0727      1.424      6.370      0.000       6.279      11.867\n",
       "Weight           20.1244      1.116     18.040      0.000      17.936      22.313\n",
       "==============================================================================\n",
       "Omnibus:                      245.672   Durbin-Watson:                   1.623\n",
       "Prob(Omnibus):                  0.000   Jarque-Bera (JB):             2695.301\n",
       "Skew:                          -0.440   Prob(JB):                         0.00\n",
       "Kurtosis:                       9.663   Cond. No.                     3.13e+06\n",
       "==============================================================================\n",
       "\n",
       "Warnings:\n",
       "[1] Standard Errors assume that the covariance matrix of the errors is correctly specified.\n",
       "[2] The condition number is large, 3.13e+06. This might indicate that there are\n",
       "strong multicollinearity or other numerical problems.\n",
       "\"\"\""
      ]
     },
     "execution_count": 58,
     "metadata": {},
     "output_type": "execute_result"
    }
   ],
   "source": [
    "modelB = smf.ols(\"Price~Age_08_04+KM+HP+cc+Doors+Gears+Quarterly_Tax+Weight\",data= data2).fit()\n",
    "modelB.summary()"
   ]
  },
  {
   "cell_type": "code",
   "execution_count": 63,
   "metadata": {
    "ExecuteTime": {
     "end_time": "2021-02-07T10:28:45.986720Z",
     "start_time": "2021-02-07T10:28:45.983718Z"
    }
   },
   "outputs": [],
   "source": [
    "#modelA is improved so it is considered to the final model (after removing influncers)"
   ]
  }
 ],
 "metadata": {
  "kernelspec": {
   "display_name": "Python 3",
   "language": "python",
   "name": "python3"
  },
  "language_info": {
   "codemirror_mode": {
    "name": "ipython",
    "version": 3
   },
   "file_extension": ".py",
   "mimetype": "text/x-python",
   "name": "python",
   "nbconvert_exporter": "python",
   "pygments_lexer": "ipython3",
   "version": "3.8.3"
  },
  "varInspector": {
   "cols": {
    "lenName": 16,
    "lenType": 16,
    "lenVar": 40
   },
   "kernels_config": {
    "python": {
     "delete_cmd_postfix": "",
     "delete_cmd_prefix": "del ",
     "library": "var_list.py",
     "varRefreshCmd": "print(var_dic_list())"
    },
    "r": {
     "delete_cmd_postfix": ") ",
     "delete_cmd_prefix": "rm(",
     "library": "var_list.r",
     "varRefreshCmd": "cat(var_dic_list()) "
    }
   },
   "types_to_exclude": [
    "module",
    "function",
    "builtin_function_or_method",
    "instance",
    "_Feature"
   ],
   "window_display": false
  }
 },
 "nbformat": 4,
 "nbformat_minor": 4
}
